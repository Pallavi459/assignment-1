{
 "cells": [
  {
   "cell_type": "code",
   "execution_count": 8,
   "id": "5f3a4ff3-c5b7-4544-8a24-e45dbc76613e",
   "metadata": {},
   "outputs": [
    {
     "data": {
      "text/plain": [
       "False"
      ]
     },
     "execution_count": 8,
     "metadata": {},
     "output_type": "execute_result"
    }
   ],
   "source": [
    "True and False"
   ]
  },
  {
   "cell_type": "code",
   "execution_count": 9,
   "id": "8808358d-9e0c-48b6-aa1c-12933a65e641",
   "metadata": {},
   "outputs": [
    {
     "data": {
      "text/plain": [
       "True"
      ]
     },
     "execution_count": 9,
     "metadata": {},
     "output_type": "execute_result"
    }
   ],
   "source": [
    "''' 2. or - This is also a logical operator which returns true if anyone of the operand is true else false\n",
    "for example :'''\n",
    "True or False"
   ]
  },
  {
   "cell_type": "code",
   "execution_count": 10,
   "id": "18d476d6-d949-42f1-bc9e-11fdde069eab",
   "metadata": {},
   "outputs": [
    {
     "data": {
      "text/plain": [
       "False"
      ]
     },
     "execution_count": 10,
     "metadata": {},
     "output_type": "execute_result"
    }
   ],
   "source": [
    "False and False"
   ]
  },
  {
   "cell_type": "code",
   "execution_count": 12,
   "id": "64778b1b-738c-477c-b9ed-03117db4a9e6",
   "metadata": {},
   "outputs": [
    {
     "name": "stdout",
     "output_type": "stream",
     "text": [
      "the number is greater than 0\n"
     ]
    }
   ],
   "source": [
    "''' 3. if - this is used to make a conditional statement.\n",
    "for example :'''\n",
    "a = 100\n",
    "if a > 0:\n",
    "    print (\"the number is greater than 0\")"
   ]
  },
  {
   "cell_type": "code",
   "execution_count": 16,
   "id": "66343c88-5d52-4a11-b8ee-6f0830baedec",
   "metadata": {},
   "outputs": [
    {
     "name": "stdout",
     "output_type": "stream",
     "text": [
      "a is less than 100\n"
     ]
    }
   ],
   "source": [
    "'''4. elif - is a condition statement used with an if statement\n",
    "for example :'''\n",
    "a = 10\n",
    "if (a> 100) :\n",
    "    print (\"a is greater than 100\")\n",
    "elif (a < 100) :\n",
    "    print (\"a is less than 100\")\n",
    "else :\n",
    "    print (\"a is equals to 100\")"
   ]
  },
  {
   "cell_type": "code",
   "execution_count": 19,
   "id": "cd7805a4-df41-4cf0-a749-944271ca8c5c",
   "metadata": {},
   "outputs": [
    {
     "name": "stdout",
     "output_type": "stream",
     "text": [
      "p\n",
      "a\n",
      "l\n",
      "l\n",
      "a\n",
      "v\n",
      "i\n"
     ]
    }
   ],
   "source": [
    "''' 5. for - this is used to create a loop\n",
    "for example :'''\n",
    "\n",
    "for i in \"pallavi\" :\n",
    "    print (i)"
   ]
  },
  {
   "cell_type": "code",
   "execution_count": 25,
   "id": "3bf0c3aa-3d8d-4a72-a477-1e82ed2cfa80",
   "metadata": {},
   "outputs": [],
   "source": [
    "'''6. break - it is used to terminate the loop\n",
    "for example :'''\n",
    "\n",
    "l = [1 , 2, \"pallavi\"]\n",
    "for i in l:\n",
    "    if i == \"pallavi\" :\n",
    "        break\n",
    "        print (i)\n"
   ]
  },
  {
   "cell_type": "code",
   "execution_count": 7,
   "id": "ae1c3e48-fcc8-401e-bd52-dc8ba17a8417",
   "metadata": {},
   "outputs": [
    {
     "data": {
      "text/plain": [
       "True"
      ]
     },
     "execution_count": 7,
     "metadata": {},
     "output_type": "execute_result"
    }
   ],
   "source": [
    "# Q.NO 1 : Explain the features oF python that make it a popular choice for programming?\n",
    "\n",
    "'''ANS : Python is widely used in industries because of its key features that follows\n",
    " 1. Lots of libraries in python\n",
    "    It offers various modules in operators , mathematical functions, libraries such as NumPy, Pandas etc and packages\n",
    "    paving the way for the developers to save time to avoid re- writing  the codes from scratch.\n",
    "    \n",
    "2.  Object - Oriented programming\n",
    "    it is an object oriented programming and also supports procedure- oriented programming.\n",
    "    \n",
    "3.  Portable\n",
    "    Python is portable in the sense that the same code can be used in different machine.It is versatile in nature.\n",
    "    \n",
    " 4. High Level Language\n",
    "    Its a high level language becuase programmers dont need to remember the system architecture nor do they have to \n",
    "    manage the memory.\n",
    "    \n",
    "5.  High Active Community \n",
    "    It has one of the largest and most active program communities which helps in providing wealth of resources ,\n",
    "    documentation and libraries.'''\n",
    "\n",
    "#Q NO 2 : Describe the role of predefined keywords in Python and provide examples of how they are used in a programme\n",
    "\n",
    "''' AANS : Pre - definrd keywords are used to define the syntax of the coding . The keyword cannot be used as an \n",
    "           identifier, function or variable name. Some of the python keywords are :\n",
    "           1 . and - this is a logical operator which give true if both the operands are true else false\n",
    "           for example '''\n",
    "True and True\n"
   ]
  },
  {
   "cell_type": "code",
   "execution_count": 26,
   "id": "cb9c28ce-bec1-4570-bf75-aeb0d2f49706",
   "metadata": {},
   "outputs": [
    {
     "data": {
      "text/plain": [
       "[1, 7, 'samrat']"
      ]
     },
     "execution_count": 26,
     "metadata": {},
     "output_type": "execute_result"
    }
   ],
   "source": [
    "# Q NO 3 :  Compare and contrast mutable and immutable objects in Python with examples\n",
    "\n",
    "''' ANS : mutable objects\n",
    "          1. ojects or container whose statements can be changed after they are created is called mutable object\n",
    "          2. it supports item assignment\n",
    "          3. list is an example of mutable object \n",
    "          for eg '''\n",
    "list = [ 1 , 7 , \"pallavi\"]\n",
    "list [2] = \"samrat\"\n",
    "list"
   ]
  },
  {
   "cell_type": "code",
   "execution_count": 27,
   "id": "d87f8bfa-6807-4b8d-a147-5c6a68e8e86d",
   "metadata": {},
   "outputs": [
    {
     "data": {
      "text/plain": [
       "'p'"
      ]
     },
     "execution_count": 27,
     "metadata": {},
     "output_type": "execute_result"
    }
   ],
   "source": [
    "'''immutable objects\n",
    "1. ojects or container whose statements cannot be changed after they are created is called immutable object\n",
    "2. it does not supports item assignment\n",
    "3. string is an example of immutable objects\n",
    "for eg '''\n",
    "b = \"pwskills\"\n",
    "b[0]"
   ]
  },
  {
   "cell_type": "code",
   "execution_count": 28,
   "id": "6ab47230-2c9c-4e04-a009-645d55307e87",
   "metadata": {},
   "outputs": [
    {
     "ename": "TypeError",
     "evalue": "'str' object does not support item assignment",
     "output_type": "error",
     "traceback": [
      "\u001b[0;31m---------------------------------------------------------------------------\u001b[0m",
      "\u001b[0;31mTypeError\u001b[0m                                 Traceback (most recent call last)",
      "Cell \u001b[0;32mIn[28], line 1\u001b[0m\n\u001b[0;32m----> 1\u001b[0m \u001b[43mb\u001b[49m\u001b[43m[\u001b[49m\u001b[38;5;241;43m0\u001b[39;49m\u001b[43m]\u001b[49m \u001b[38;5;241m=\u001b[39m \u001b[38;5;124m\"\u001b[39m\u001b[38;5;124mu\u001b[39m\u001b[38;5;124m\"\u001b[39m\n",
      "\u001b[0;31mTypeError\u001b[0m: 'str' object does not support item assignment"
     ]
    }
   ],
   "source": [
    "b[0] = \"u\""
   ]
  },
  {
   "cell_type": "code",
   "execution_count": 29,
   "id": "0fb49f1b-332b-47bc-b128-4c6ec23f436e",
   "metadata": {},
   "outputs": [
    {
     "data": {
      "text/plain": [
       "1016"
      ]
     },
     "execution_count": 29,
     "metadata": {},
     "output_type": "execute_result"
    }
   ],
   "source": [
    "# Q NO :4 Discuss the different types of operators in Python and provide examples of how they are used\n",
    "''' ANS :  1. arithmatic operators\n",
    "          addition (+)\n",
    "          subtraction (+)\n",
    "          multiplication (*)'''\n",
    "20+996"
   ]
  },
  {
   "cell_type": "code",
   "execution_count": 31,
   "id": "5ccf885e-69ad-4283-a444-522485c23303",
   "metadata": {},
   "outputs": [
    {
     "data": {
      "text/plain": [
       "True"
      ]
     },
     "execution_count": 31,
     "metadata": {},
     "output_type": "execute_result"
    }
   ],
   "source": [
    "''' 2. comparison operators \n",
    "equals to (==)\n",
    "not equals to (!=)\n",
    "greater than(>) or equals to(>=)\n",
    "less than (<) or equals to(<=)\n",
    "for example :'''\n",
    "True == True\n"
   ]
  },
  {
   "cell_type": "code",
   "execution_count": 32,
   "id": "dcf6eaf8-fbe9-4df5-90bb-4b9267d72f27",
   "metadata": {},
   "outputs": [
    {
     "data": {
      "text/plain": [
       "True"
      ]
     },
     "execution_count": 32,
     "metadata": {},
     "output_type": "execute_result"
    }
   ],
   "source": [
    "True != False"
   ]
  },
  {
   "cell_type": "code",
   "execution_count": 33,
   "id": "432010cf-4eef-4ec0-8bd4-8ac9d0bbd5c6",
   "metadata": {},
   "outputs": [
    {
     "data": {
      "text/plain": [
       "False"
      ]
     },
     "execution_count": 33,
     "metadata": {},
     "output_type": "execute_result"
    }
   ],
   "source": [
    "56 >= 78"
   ]
  },
  {
   "cell_type": "code",
   "execution_count": 34,
   "id": "32cd75c6-9cf7-4d63-8109-d6cf7dc65022",
   "metadata": {},
   "outputs": [
    {
     "data": {
      "text/plain": [
       "True"
      ]
     },
     "execution_count": 34,
     "metadata": {},
     "output_type": "execute_result"
    }
   ],
   "source": [
    "98<= 98"
   ]
  },
  {
   "cell_type": "code",
   "execution_count": 35,
   "id": "5c12cc25-ec96-487c-99cc-858371801b6e",
   "metadata": {},
   "outputs": [
    {
     "data": {
      "text/plain": [
       "True"
      ]
     },
     "execution_count": 35,
     "metadata": {},
     "output_type": "execute_result"
    }
   ],
   "source": [
    "''' 3. Logical operator\n",
    "Logical AND\n",
    "logicak OR\n",
    "Logical NOT'''\n",
    "True and True"
   ]
  },
  {
   "cell_type": "code",
   "execution_count": 36,
   "id": "a5b65fb1-bd50-4c72-83e6-a561835a04a0",
   "metadata": {},
   "outputs": [
    {
     "data": {
      "text/plain": [
       "True"
      ]
     },
     "execution_count": 36,
     "metadata": {},
     "output_type": "execute_result"
    }
   ],
   "source": [
    "True or False "
   ]
  },
  {
   "cell_type": "code",
   "execution_count": 37,
   "id": "38ba6723-1bf2-4efc-b1aa-e37e2f20fdce",
   "metadata": {},
   "outputs": [
    {
     "data": {
      "text/plain": [
       "False"
      ]
     },
     "execution_count": 37,
     "metadata": {},
     "output_type": "execute_result"
    }
   ],
   "source": [
    "not True"
   ]
  },
  {
   "cell_type": "code",
   "execution_count": 39,
   "id": "c3b35aca-b8ca-4d4e-bfcc-2a5062f3253a",
   "metadata": {},
   "outputs": [
    {
     "data": {
      "text/plain": [
       "2"
      ]
     },
     "execution_count": 39,
     "metadata": {},
     "output_type": "execute_result"
    }
   ],
   "source": [
    "''' 4. Bitwise Operator\n",
    "bitwise AND (&)\n",
    "biwise or (|)\n",
    "bitwise NOR or negation (~)\n",
    "bitwise XOR(^)\n",
    "for example :'''\n",
    "\n",
    "'''AND'''\n",
    "18 & 3\n"
   ]
  },
  {
   "cell_type": "code",
   "execution_count": 40,
   "id": "2be5760a-fb00-4363-b587-5cf8eb249f54",
   "metadata": {},
   "outputs": [
    {
     "data": {
      "text/plain": [
       "45"
      ]
     },
     "execution_count": 40,
     "metadata": {},
     "output_type": "execute_result"
    }
   ],
   "source": [
    "'''OR'''\n",
    "45|9"
   ]
  },
  {
   "cell_type": "code",
   "execution_count": 42,
   "id": "2e144383-937e-42a9-a761-c14e6576e6d1",
   "metadata": {},
   "outputs": [
    {
     "data": {
      "text/plain": [
       "89"
      ]
     },
     "execution_count": 42,
     "metadata": {},
     "output_type": "execute_result"
    }
   ],
   "source": [
    "'''NEGATION'''\n",
    "~-90"
   ]
  },
  {
   "cell_type": "code",
   "execution_count": 43,
   "id": "d83649da-9dad-480e-ae01-7175bdf7eb73",
   "metadata": {},
   "outputs": [
    {
     "data": {
      "text/plain": [
       "6"
      ]
     },
     "execution_count": 43,
     "metadata": {},
     "output_type": "execute_result"
    }
   ],
   "source": [
    "'''XOR'''\n",
    "5^3"
   ]
  },
  {
   "cell_type": "code",
   "execution_count": 55,
   "id": "49a87e7b-39ed-4c89-aea7-58d41ef0192e",
   "metadata": {},
   "outputs": [
    {
     "data": {
      "text/plain": [
       "10"
      ]
     },
     "execution_count": 55,
     "metadata": {},
     "output_type": "execute_result"
    }
   ],
   "source": [
    "''' 5. ASSIGNMENT OPERATOR\n",
    "To assign the value'''\n",
    "a = 10\n",
    "a\n"
   ]
  },
  {
   "cell_type": "code",
   "execution_count": 56,
   "id": "93572431-0a4f-412d-b076-169e9e1af109",
   "metadata": {},
   "outputs": [
    {
     "data": {
      "text/plain": [
       "19"
      ]
     },
     "execution_count": 56,
     "metadata": {},
     "output_type": "execute_result"
    }
   ],
   "source": [
    "a + 9"
   ]
  },
  {
   "cell_type": "code",
   "execution_count": 58,
   "id": "d7fe5877-98eb-4f47-a14e-ca0490e82bd6",
   "metadata": {},
   "outputs": [
    {
     "data": {
      "text/plain": [
       "False"
      ]
     },
     "execution_count": 58,
     "metadata": {},
     "output_type": "execute_result"
    }
   ],
   "source": [
    "''' MEMBERSHIP OPERATOR\n",
    "in\n",
    "not in\n",
    "for example :'''\n",
    "a = \"pallavi\"\n",
    "\"p\" not in a"
   ]
  },
  {
   "cell_type": "code",
   "execution_count": 59,
   "id": "5ac835e0-922f-4252-95a1-c7e2aa522aec",
   "metadata": {},
   "outputs": [
    {
     "data": {
      "text/plain": [
       "False"
      ]
     },
     "execution_count": 59,
     "metadata": {},
     "output_type": "execute_result"
    }
   ],
   "source": [
    "\"o\" in a"
   ]
  },
  {
   "cell_type": "code",
   "execution_count": 60,
   "id": "8cf1c1ff-b059-437c-882a-a7840a03434d",
   "metadata": {},
   "outputs": [
    {
     "data": {
      "text/plain": [
       "False"
      ]
     },
     "execution_count": 60,
     "metadata": {},
     "output_type": "execute_result"
    }
   ],
   "source": [
    "'''IDENTITY OPERATORS\n",
    "copares the location of two objects \n",
    "for example;'''\n",
    "a= 2\n",
    "b = 3\n",
    "a is b"
   ]
  },
  {
   "cell_type": "code",
   "execution_count": 62,
   "id": "23a55cae-128e-4b16-ba01-90c6679652ac",
   "metadata": {},
   "outputs": [
    {
     "data": {
      "text/plain": [
       "True"
      ]
     },
     "execution_count": 62,
     "metadata": {},
     "output_type": "execute_result"
    }
   ],
   "source": [
    "a = 0\n",
    "b = a\n",
    "a is b"
   ]
  },
  {
   "cell_type": "code",
   "execution_count": 2,
   "id": "31659091-9388-4cae-b1df-22777ecd4d29",
   "metadata": {},
   "outputs": [
    {
     "ename": "IndentationError",
     "evalue": "unexpected indent (885516160.py, line 4)",
     "output_type": "error",
     "traceback": [
      "\u001b[0;36m  Cell \u001b[0;32mIn[2], line 4\u001b[0;36m\u001b[0m\n\u001b[0;31m    '''ANS : The process of changing the data type of value/object is called type casting. We use type casting because\u001b[0m\n\u001b[0m    ^\u001b[0m\n\u001b[0;31mIndentationError\u001b[0m\u001b[0;31m:\u001b[0m unexpected indent\n"
     ]
    }
   ],
   "source": [
    "\n",
    "#Q NO : 5 Explain the concept of type casting in Python with examples \n",
    "      \n",
    "    \n",
    "    '''ANS : The process of changing the data type of value/object is called type casting. We use type casting because \n",
    "     while executing using operators, there can be the mismatch between the data types.\n",
    "     for example : '''\n",
    "a = \"2\"\n",
    "b = 6\n",
    "a + b"
   ]
  },
  {
   "cell_type": "code",
   "execution_count": 1,
   "id": "815fa38e-b4c6-4689-8b22-7d907e4ebff1",
   "metadata": {},
   "outputs": [
    {
     "data": {
      "text/plain": [
       "8"
      ]
     },
     "execution_count": 1,
     "metadata": {},
     "output_type": "execute_result"
    }
   ],
   "source": [
    "''' becuase string cannot be added to integer we have to convert the string into integer by using type casting.'''\n",
    "a = \"2\"\n",
    "b = 6\n",
    "int(a) + b"
   ]
  },
  {
   "cell_type": "code",
   "execution_count": 7,
   "id": "e0c8f560-e7c6-44e1-b569-ea0b65abe504",
   "metadata": {},
   "outputs": [
    {
     "data": {
      "text/plain": [
       "int"
      ]
     },
     "execution_count": 7,
     "metadata": {},
     "output_type": "execute_result"
    }
   ],
   "source": [
    "''' Type casting is of to types  implicit and explicit\n",
    "implicit\n",
    "[Python understands the data type]'''\n",
    "a = 6\n",
    "type(a)\n"
   ]
  },
  {
   "cell_type": "code",
   "execution_count": 4,
   "id": "163e4190-13ec-4f8d-85c1-8adf814593a0",
   "metadata": {},
   "outputs": [
    {
     "data": {
      "text/plain": [
       "'7'"
      ]
     },
     "execution_count": 4,
     "metadata": {},
     "output_type": "execute_result"
    }
   ],
   "source": [
    "'''explicit'''\n",
    "a = 7\n",
    "str(a)"
   ]
  },
  {
   "cell_type": "code",
   "execution_count": null,
   "id": "5a8b0006-7079-469a-83fe-73f0131c3a3b",
   "metadata": {},
   "outputs": [],
   "source": [
    "\n",
    "\n",
    "# Q NO : 6   How do conditional statements work in Python? Illustrate with examples"
   ]
  },
  {
   "cell_type": "code",
   "execution_count": 9,
   "id": "641104c0-d63c-413f-89b4-247bf95f0ba2",
   "metadata": {},
   "outputs": [
    {
     "name": "stdout",
     "output_type": "stream",
     "text": [
      "The number is greater than 0\n"
     ]
    }
   ],
   "source": [
    "''' conditinal statement helps you to code decisions based on some pre- conditions\n",
    "1. if\n",
    "The if statement is a conditional statement in python used to determine whether a block of code will be executed . \n",
    "If the program finds the condition defined in the if statement true, it will execute the code block inside the if \n",
    "statement\n",
    "for example:'''\n",
    "a = 100\n",
    "if a > 0:\n",
    "    print(\"The number is greater than 0\")"
   ]
  },
  {
   "cell_type": "code",
   "execution_count": 11,
   "id": "59739c0a-49a2-486c-b4dc-bb5793a45f30",
   "metadata": {},
   "outputs": [
    {
     "name": "stdout",
     "output_type": "stream",
     "text": [
      "I will play cricket\n"
     ]
    }
   ],
   "source": [
    "'''2. if else\n",
    "      \n",
    "      the if statement execute the code block when the condition is true. But if the  if statement is false then \n",
    "       it will execute the code block of else statement .'''\n",
    "weather = \"sunny\"\n",
    "if (weather == \"rainy\"):\n",
    "    print(\" I will watch television\")\n",
    "else :\n",
    "    print(\"I will play cricket\")\n",
    "       "
   ]
  },
  {
   "cell_type": "code",
   "execution_count": 13,
   "id": "b84b929c-5156-4d55-bb17-08d98b8228a9",
   "metadata": {},
   "outputs": [
    {
     "name": "stdout",
     "output_type": "stream",
     "text": [
      "The number is less than 100\n"
     ]
    }
   ],
   "source": [
    "'''3. elif\n",
    "The elif statement is used to check for multiple conditions and execute the code block within if any of the conditions \n",
    "are evaluated to be true.\n",
    "for example :'''\n",
    "a = 10\n",
    "if a > 100:\n",
    "    print(\"The number is greater than 100\")\n",
    "elif a < 100:\n",
    "    print (\"The number is less than 100\")\n",
    "else :\n",
    "    print (\"The number is equals to 100\")"
   ]
  },
  {
   "cell_type": "code",
   "execution_count": 15,
   "id": "ced68e35-1c7f-4232-a149-a8e9119a292e",
   "metadata": {},
   "outputs": [
    {
     "name": "stdout",
     "output_type": "stream",
     "text": [
      "x is not greater than 5\n"
     ]
    }
   ],
   "source": [
    "''' 4. nested if else\n",
    "A nested if else statement is considered as if within another if statement.\n",
    "for example:'''\n",
    "x = 1\n",
    "y = 6\n",
    "if x > 5:\n",
    "    if y > 6:\n",
    "        print(\"both x an y is greater than 5\")\n",
    "    else :\n",
    "        print(\"x is greater than 5 but y less than 5\")\n",
    "else :\n",
    "    print(\"x is not greater than 5\")"
   ]
  },
  {
   "cell_type": "code",
   "execution_count": null,
   "id": "ff62f283-e963-41a6-9cbc-b9a550a47871",
   "metadata": {},
   "outputs": [],
   "source": [
    "# Q NO : 7 Describe the different types of loops in Python and their use cases with examples."
   ]
  },
  {
   "cell_type": "code",
   "execution_count": 16,
   "id": "f626ce74-b8f1-4a99-b295-c9c3236590e1",
   "metadata": {},
   "outputs": [
    {
     "name": "stdout",
     "output_type": "stream",
     "text": [
      "1\n",
      "2\n",
      "3\n",
      "4\n",
      "5\n",
      "6\n"
     ]
    }
   ],
   "source": [
    "'''ANS : Loop statement allows to execute a block of code repeatedly.\n",
    "         It is of two types\n",
    "         while loops \n",
    "         for loops\n",
    "    1. \n",
    "    \n",
    "    WHILE LOOP\n",
    "       The while loop is used to execute the set of statements as long as a condition is true.'''\n",
    "n = 7\n",
    "i = 1\n",
    "while i < n:\n",
    "    print (i)\n",
    "    i = i+1"
   ]
  },
  {
   "cell_type": "code",
   "execution_count": 17,
   "id": "859547ea-a9c0-4bf3-b68d-3c84ee9d9006",
   "metadata": {},
   "outputs": [
    {
     "name": "stdout",
     "output_type": "stream",
     "text": [
      "1\n",
      "2\n",
      "3\n",
      "4\n",
      "5\n",
      "6\n",
      "this will be executed successfully\n"
     ]
    }
   ],
   "source": [
    "'''a) while- else loop '''\n",
    "     \n",
    "n = 7\n",
    "i = 1\n",
    "while i< n:\n",
    "    print(i)\n",
    "    i = i+1 \n",
    "else:\n",
    "    print(\"this will be executed successfully\")\n",
    "     \n",
    "      "
   ]
  },
  {
   "cell_type": "code",
   "execution_count": 3,
   "id": "b36c9a36-ff11-4c1a-a14b-801a674c36fb",
   "metadata": {},
   "outputs": [
    {
     "name": "stdout",
     "output_type": "stream",
     "text": [
      "1\n",
      "2\n"
     ]
    }
   ],
   "source": [
    "'''break statement \n",
    "   it terminates the loop\n",
    "   for example: '''\n",
    "n = 7\n",
    "i = 1\n",
    "while i<n:\n",
    "    print (i)\n",
    "    i = i+1\n",
    "    if i == 3:\n",
    "        break\n",
    "else:\n",
    "    print(\"this will be executed successfully\")"
   ]
  },
  {
   "cell_type": "code",
   "execution_count": 2,
   "id": "1aa1cb86-759b-4a5a-bed4-a095a4fbd928",
   "metadata": {},
   "outputs": [
    {
     "name": "stdout",
     "output_type": "stream",
     "text": [
      "1\n",
      "2\n",
      "3\n",
      "4\n",
      "5\n",
      "6\n",
      "this will be executed successfully\n"
     ]
    }
   ],
   "source": [
    "'''continue statement\n",
    "it skips the iteration\n",
    "for example :'''\n",
    "n = 7\n",
    "i = 1\n",
    "while i<n:\n",
    "    print(i)\n",
    "    i = i+1\n",
    "    if i == 5:\n",
    "        continue\n",
    "else :\n",
    "     print(\"this will be executed successfully\")\n",
    "        "
   ]
  },
  {
   "cell_type": "code",
   "execution_count": 1,
   "id": "3cb62080-1098-43bd-bc4e-1cd4a4ed3063",
   "metadata": {},
   "outputs": [
    {
     "name": "stdout",
     "output_type": "stream",
     "text": [
      "p\n",
      "w\n",
      "s\n",
      "k\n",
      "i\n",
      "l\n",
      "l\n",
      "s\n"
     ]
    }
   ],
   "source": [
    "'''2. FOR LOOP'''\n",
    "\n",
    "for i in \"pwskills\":\n",
    "    print(i)"
   ]
  },
  {
   "cell_type": "code",
   "execution_count": 2,
   "id": "2efa3476-ef7e-40d8-9012-c58fec8f8b60",
   "metadata": {},
   "outputs": [
    {
     "name": "stdout",
     "output_type": "stream",
     "text": [
      "1\n",
      "2\n",
      "Ajay\n"
     ]
    }
   ],
   "source": [
    "'''break statement'''\n",
    "l = [1 , 2, \"Ajay\" , \"Bijay\"] \n",
    "for i in l:\n",
    "    print(i)\n",
    "    if i == \"Ajay\":\n",
    "        break\n",
    "else :\n",
    "    print (\"this will be executed\")\n"
   ]
  },
  {
   "cell_type": "code",
   "execution_count": 3,
   "id": "fced57e8-9e41-483d-a80f-95001273a5a8",
   "metadata": {},
   "outputs": [
    {
     "name": "stdout",
     "output_type": "stream",
     "text": [
      "1\n",
      "2\n",
      "Ajay\n",
      "Bijay\n",
      "this will be executed\n"
     ]
    }
   ],
   "source": [
    "'''continue statement'''\n",
    "l = [1 , 2, \"Ajay\" , \"Bijay\"] \n",
    "for i in l:\n",
    "    print(i)\n",
    "    if i == \"Ajay\":\n",
    "        continue\n",
    "else :\n",
    "    print (\"this will be executed\")\n",
    "\n"
   ]
  },
  {
   "cell_type": "code",
   "execution_count": null,
   "id": "0f3ad1fd-b22d-492c-a7df-0df76f2a24c4",
   "metadata": {},
   "outputs": [],
   "source": []
  }
 ],
 "metadata": {
  "kernelspec": {
   "display_name": "Python 3 (ipykernel)",
   "language": "python",
   "name": "python3"
  },
  "language_info": {
   "codemirror_mode": {
    "name": "ipython",
    "version": 3
   },
   "file_extension": ".py",
   "mimetype": "text/x-python",
   "name": "python",
   "nbconvert_exporter": "python",
   "pygments_lexer": "ipython3",
   "version": "3.10.8"
  }
 },
 "nbformat": 4,
 "nbformat_minor": 5
}
